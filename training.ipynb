{
 "cells": [
  {
   "cell_type": "code",
   "execution_count": null,
   "id": "c0636d00-6115-4390-89d1-6c56f4a76777",
   "metadata": {},
   "outputs": [],
   "source": [
    "import torch\n",
    "import torch.nn as nn\n",
    "from transformers import T5Tokenizer, T5Config, T5Model, T5ForConditionalGeneration, Trainer, TrainingArguments\n",
    "from datasets import load_dataset\n",
    "\n",
    "def load_and_preprocess_data(tokenizer):\n",
    "    dataset = load_dataset(\"cnn_dailymail\", \"3.0.0\")\n",
    "    train_data = dataset['train']\n",
    "    val_data = dataset['validation']\n",
    "    \n",
    "    def tokenize_data(example):\n",
    "        inputs = tokenizer(example['article'], truncation=True, padding='max_length', max_length=512)\n",
    "        targets = tokenizer(example['highlights'], truncation=True, padding='max_length', max_length=150)\n",
    "        example['input_ids'] = inputs['input_ids']\n",
    "        example['attention_mask'] = inputs['attention_mask']\n",
    "        example['labels'] = targets['input_ids']\n",
    "        return example\n",
    "\n",
    "    train_data = train_data.map(tokenize_data, batched=True)\n",
    "    val_data = val_data.map(tokenize_data, batched=True)\n",
    "   \n",
    "    return train_data, val_data"
   ]
  },
  {
   "cell_type": "code",
   "execution_count": null,
   "id": "1bf0def1-3949-4d47-bf8d-20f5fcad8fda",
   "metadata": {},
   "outputs": [],
   "source": [
    "class EncoderDecoderAttentionModel(torch.nn.Module):\n",
    "    def __init__(self, model_name='t5-small'):\n",
    "        super(EncoderDecoderAttentionModel, self).__init__()\n",
    "        self.t5_model = T5ForConditionalGeneration.from_pretrained(model_name)\n",
    "        self.tokenizer = T5Tokenizer.from_pretrained(model_name)\n",
    "        \n",
    "    def forward(self, input_ids, attention_mask=None, labels=None):\n",
    "        outputs = self.t5_model(input_ids=input_ids, attention_mask=attention_mask, labels=labels)\n",
    "        return outputs"
   ]
  },
  {
   "cell_type": "code",
   "execution_count": null,
   "id": "ea04ccbe-bcd4-46b3-97ec-e8518613c68b",
   "metadata": {},
   "outputs": [],
   "source": [
    "def fine_tune_model(train_data, val_data, tokenizer, model):\n",
    "    training_args = TrainingArguments(\n",
    "        output_dir='./results',\n",
    "        evaluation_strategy=\"epoch\",\n",
    "        learning_rate=2e-5,\n",
    "        per_device_train_batch_size=4,\n",
    "        per_device_eval_batch_size=8,\n",
    "        num_train_epochs=3,\n",
    "        weight_decay=0.01,\n",
    "        logging_dir='./logs',\n",
    "        logging_steps=10,\n",
    "        save_steps=500,\n",
    "        save_total_limit=2,\n",
    "    )\n",
    "\n",
    "    trainer = Trainer(\n",
    "        model=model,\n",
    "        args=training_args,\n",
    "        train_dataset=train_data,\n",
    "        eval_dataset=val_data,\n",
    "        tokenizer=tokenizer,\n",
    "    )\n",
    "\n",
    "    trainer.train()\n",
    "\n",
    "    model.save_pretrained('./fine_tuned_t5')\n",
    "\n",
    "    return model"
   ]
  },
  {
   "cell_type": "code",
   "execution_count": null,
   "id": "93cc9261-a5f7-4b48-b63f-17c62e730127",
   "metadata": {},
   "outputs": [],
   "source": [
    "def main():\n",
    "    tokenizer = T5Tokenizer.from_pretrained('t5-small')\n",
    "    \n",
    "    model = EncoderDecoderAttentionModel()\n",
    "    \n",
    "    train_data, val_data = load_and_preprocess_data(tokenizer)\n",
    "    \n",
    "    model = fine_tune_model(train_data, val_data, tokenizer, model)\n",
    "    #as i trained my model wiht gpu on google collab, i uploaded my model and tokenizer to hugging face, streamlit uses my uploaded model and tokenizer.\n",
    "    #but i still added my training and data preprocessing code and how should we call them in main func.\n"
   ]
  },
  {
   "cell_type": "code",
   "execution_count": null,
   "id": "9d0f7a72-152f-495f-b6e2-c49ff4e5d12a",
   "metadata": {},
   "outputs": [],
   "source": [
    "if __name__ == \"__main__\":\n",
    "    main()"
   ]
  },
  {
   "cell_type": "code",
   "execution_count": null,
   "id": "51d990e3-2f52-418c-ac41-41dd2533d6e7",
   "metadata": {},
   "outputs": [],
   "source": []
  }
 ],
 "metadata": {
  "kernelspec": {
   "display_name": "Python 3 (ipykernel)",
   "language": "python",
   "name": "python3"
  },
  "language_info": {
   "codemirror_mode": {
    "name": "ipython",
    "version": 3
   },
   "file_extension": ".py",
   "mimetype": "text/x-python",
   "name": "python",
   "nbconvert_exporter": "python",
   "pygments_lexer": "ipython3",
   "version": "3.12.2"
  }
 },
 "nbformat": 4,
 "nbformat_minor": 5
}
